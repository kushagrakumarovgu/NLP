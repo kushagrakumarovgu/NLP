{
 "cells": [
  {
   "cell_type": "code",
   "execution_count": 12,
   "metadata": {},
   "outputs": [],
   "source": [
    "import pandas as pd\n",
    "import matplotlib.pyplot as plt\n",
    "import numpy as np\n",
    "from helpers import compute_punct_percent, label_reviews"
   ]
  },
  {
   "cell_type": "code",
   "execution_count": 2,
   "metadata": {},
   "outputs": [
    {
     "data": {
      "text/html": [
       "<div>\n",
       "<style scoped>\n",
       "    .dataframe tbody tr th:only-of-type {\n",
       "        vertical-align: middle;\n",
       "    }\n",
       "\n",
       "    .dataframe tbody tr th {\n",
       "        vertical-align: top;\n",
       "    }\n",
       "\n",
       "    .dataframe thead th {\n",
       "        text-align: right;\n",
       "    }\n",
       "</style>\n",
       "<table border=\"1\" class=\"dataframe\">\n",
       "  <thead>\n",
       "    <tr style=\"text-align: right;\">\n",
       "      <th></th>\n",
       "      <th>Review Rating</th>\n",
       "      <th>Translated Review</th>\n",
       "    </tr>\n",
       "  </thead>\n",
       "  <tbody>\n",
       "    <tr>\n",
       "      <th>0</th>\n",
       "      <td>4</td>\n",
       "      <td>Wonderful stay Found the hotel via Tripadvisor...</td>\n",
       "    </tr>\n",
       "    <tr>\n",
       "      <th>1</th>\n",
       "      <td>5</td>\n",
       "      <td>Business Dinner!! Recently attended the Passen...</td>\n",
       "    </tr>\n",
       "    <tr>\n",
       "      <th>2</th>\n",
       "      <td>5</td>\n",
       "      <td>Very nice boutique hotel. Recommended although...</td>\n",
       "    </tr>\n",
       "    <tr>\n",
       "      <th>3</th>\n",
       "      <td>5</td>\n",
       "      <td>Amazing stay Very last minute overnight stay. ...</td>\n",
       "    </tr>\n",
       "    <tr>\n",
       "      <th>4</th>\n",
       "      <td>5</td>\n",
       "      <td>Fantastic Hotel!! I stayed at this hotel for t...</td>\n",
       "    </tr>\n",
       "  </tbody>\n",
       "</table>\n",
       "</div>"
      ],
      "text/plain": [
       "   Review Rating                                  Translated Review\n",
       "0              4  Wonderful stay Found the hotel via Tripadvisor...\n",
       "1              5  Business Dinner!! Recently attended the Passen...\n",
       "2              5  Very nice boutique hotel. Recommended although...\n",
       "3              5  Amazing stay Very last minute overnight stay. ...\n",
       "4              5  Fantastic Hotel!! I stayed at this hotel for t..."
      ]
     },
     "execution_count": 2,
     "metadata": {},
     "output_type": "execute_result"
    }
   ],
   "source": [
    "df = pd.read_csv('Translated_London_Hotel_review_Dataset.csv')\n",
    "df.head()"
   ]
  },
  {
   "cell_type": "code",
   "execution_count": 13,
   "metadata": {},
   "outputs": [
    {
     "data": {
      "text/html": [
       "<div>\n",
       "<style scoped>\n",
       "    .dataframe tbody tr th:only-of-type {\n",
       "        vertical-align: middle;\n",
       "    }\n",
       "\n",
       "    .dataframe tbody tr th {\n",
       "        vertical-align: top;\n",
       "    }\n",
       "\n",
       "    .dataframe thead th {\n",
       "        text-align: right;\n",
       "    }\n",
       "</style>\n",
       "<table border=\"1\" class=\"dataframe\">\n",
       "  <thead>\n",
       "    <tr style=\"text-align: right;\">\n",
       "      <th></th>\n",
       "      <th>Review Rating</th>\n",
       "      <th>Translated Review</th>\n",
       "      <th>review_len</th>\n",
       "      <th>punct%</th>\n",
       "      <th>label</th>\n",
       "    </tr>\n",
       "  </thead>\n",
       "  <tbody>\n",
       "    <tr>\n",
       "      <th>0</th>\n",
       "      <td>4</td>\n",
       "      <td>Wonderful stay Found the hotel via Tripadvisor...</td>\n",
       "      <td>563</td>\n",
       "      <td>2.3</td>\n",
       "      <td>pos</td>\n",
       "    </tr>\n",
       "    <tr>\n",
       "      <th>1</th>\n",
       "      <td>5</td>\n",
       "      <td>Business Dinner!! Recently attended the Passen...</td>\n",
       "      <td>285</td>\n",
       "      <td>2.1</td>\n",
       "      <td>pos</td>\n",
       "    </tr>\n",
       "    <tr>\n",
       "      <th>2</th>\n",
       "      <td>5</td>\n",
       "      <td>Very nice boutique hotel. Recommended although...</td>\n",
       "      <td>295</td>\n",
       "      <td>3.4</td>\n",
       "      <td>pos</td>\n",
       "    </tr>\n",
       "    <tr>\n",
       "      <th>3</th>\n",
       "      <td>5</td>\n",
       "      <td>Amazing stay Very last minute overnight stay. ...</td>\n",
       "      <td>333</td>\n",
       "      <td>4.2</td>\n",
       "      <td>pos</td>\n",
       "    </tr>\n",
       "    <tr>\n",
       "      <th>4</th>\n",
       "      <td>5</td>\n",
       "      <td>Fantastic Hotel!! I stayed at this hotel for t...</td>\n",
       "      <td>589</td>\n",
       "      <td>1.7</td>\n",
       "      <td>pos</td>\n",
       "    </tr>\n",
       "  </tbody>\n",
       "</table>\n",
       "</div>"
      ],
      "text/plain": [
       "   Review Rating                                  Translated Review  \\\n",
       "0              4  Wonderful stay Found the hotel via Tripadvisor...   \n",
       "1              5  Business Dinner!! Recently attended the Passen...   \n",
       "2              5  Very nice boutique hotel. Recommended although...   \n",
       "3              5  Amazing stay Very last minute overnight stay. ...   \n",
       "4              5  Fantastic Hotel!! I stayed at this hotel for t...   \n",
       "\n",
       "   review_len  punct% label  \n",
       "0         563     2.3   pos  \n",
       "1         285     2.1   pos  \n",
       "2         295     3.4   pos  \n",
       "3         333     4.2   pos  \n",
       "4         589     1.7   pos  "
      ]
     },
     "execution_count": 13,
     "metadata": {},
     "output_type": "execute_result"
    }
   ],
   "source": [
    "df['label'] = df['Review Rating'].apply(label_reviews)\n",
    "df.head()"
   ]
  },
  {
   "cell_type": "markdown",
   "metadata": {},
   "source": [
    "Feature for review text length"
   ]
  },
  {
   "cell_type": "code",
   "execution_count": 4,
   "metadata": {},
   "outputs": [
    {
     "data": {
      "text/html": [
       "<div>\n",
       "<style scoped>\n",
       "    .dataframe tbody tr th:only-of-type {\n",
       "        vertical-align: middle;\n",
       "    }\n",
       "\n",
       "    .dataframe tbody tr th {\n",
       "        vertical-align: top;\n",
       "    }\n",
       "\n",
       "    .dataframe thead th {\n",
       "        text-align: right;\n",
       "    }\n",
       "</style>\n",
       "<table border=\"1\" class=\"dataframe\">\n",
       "  <thead>\n",
       "    <tr style=\"text-align: right;\">\n",
       "      <th></th>\n",
       "      <th>Review Rating</th>\n",
       "      <th>Translated Review</th>\n",
       "      <th>review_len</th>\n",
       "    </tr>\n",
       "  </thead>\n",
       "  <tbody>\n",
       "    <tr>\n",
       "      <th>0</th>\n",
       "      <td>4</td>\n",
       "      <td>Wonderful stay Found the hotel via Tripadvisor...</td>\n",
       "      <td>563</td>\n",
       "    </tr>\n",
       "    <tr>\n",
       "      <th>1</th>\n",
       "      <td>5</td>\n",
       "      <td>Business Dinner!! Recently attended the Passen...</td>\n",
       "      <td>285</td>\n",
       "    </tr>\n",
       "    <tr>\n",
       "      <th>2</th>\n",
       "      <td>5</td>\n",
       "      <td>Very nice boutique hotel. Recommended although...</td>\n",
       "      <td>295</td>\n",
       "    </tr>\n",
       "    <tr>\n",
       "      <th>3</th>\n",
       "      <td>5</td>\n",
       "      <td>Amazing stay Very last minute overnight stay. ...</td>\n",
       "      <td>333</td>\n",
       "    </tr>\n",
       "    <tr>\n",
       "      <th>4</th>\n",
       "      <td>5</td>\n",
       "      <td>Fantastic Hotel!! I stayed at this hotel for t...</td>\n",
       "      <td>589</td>\n",
       "    </tr>\n",
       "  </tbody>\n",
       "</table>\n",
       "</div>"
      ],
      "text/plain": [
       "   Review Rating                                  Translated Review  \\\n",
       "0              4  Wonderful stay Found the hotel via Tripadvisor...   \n",
       "1              5  Business Dinner!! Recently attended the Passen...   \n",
       "2              5  Very nice boutique hotel. Recommended although...   \n",
       "3              5  Amazing stay Very last minute overnight stay. ...   \n",
       "4              5  Fantastic Hotel!! I stayed at this hotel for t...   \n",
       "\n",
       "   review_len  \n",
       "0         563  \n",
       "1         285  \n",
       "2         295  \n",
       "3         333  \n",
       "4         589  "
      ]
     },
     "execution_count": 4,
     "metadata": {},
     "output_type": "execute_result"
    }
   ],
   "source": [
    "df['review_len'] = df['Translated Review'].apply(lambda x: len(x) - x.count(\" \"))\n",
    "df.head()"
   ]
  },
  {
   "cell_type": "markdown",
   "metadata": {},
   "source": [
    "Feature for % of review that is punctuation."
   ]
  },
  {
   "cell_type": "code",
   "execution_count": 6,
   "metadata": {},
   "outputs": [
    {
     "data": {
      "text/html": [
       "<div>\n",
       "<style scoped>\n",
       "    .dataframe tbody tr th:only-of-type {\n",
       "        vertical-align: middle;\n",
       "    }\n",
       "\n",
       "    .dataframe tbody tr th {\n",
       "        vertical-align: top;\n",
       "    }\n",
       "\n",
       "    .dataframe thead th {\n",
       "        text-align: right;\n",
       "    }\n",
       "</style>\n",
       "<table border=\"1\" class=\"dataframe\">\n",
       "  <thead>\n",
       "    <tr style=\"text-align: right;\">\n",
       "      <th></th>\n",
       "      <th>Review Rating</th>\n",
       "      <th>Translated Review</th>\n",
       "      <th>review_len</th>\n",
       "      <th>punct%</th>\n",
       "    </tr>\n",
       "  </thead>\n",
       "  <tbody>\n",
       "    <tr>\n",
       "      <th>0</th>\n",
       "      <td>4</td>\n",
       "      <td>Wonderful stay Found the hotel via Tripadvisor...</td>\n",
       "      <td>563</td>\n",
       "      <td>2.3</td>\n",
       "    </tr>\n",
       "    <tr>\n",
       "      <th>1</th>\n",
       "      <td>5</td>\n",
       "      <td>Business Dinner!! Recently attended the Passen...</td>\n",
       "      <td>285</td>\n",
       "      <td>2.1</td>\n",
       "    </tr>\n",
       "    <tr>\n",
       "      <th>2</th>\n",
       "      <td>5</td>\n",
       "      <td>Very nice boutique hotel. Recommended although...</td>\n",
       "      <td>295</td>\n",
       "      <td>3.4</td>\n",
       "    </tr>\n",
       "    <tr>\n",
       "      <th>3</th>\n",
       "      <td>5</td>\n",
       "      <td>Amazing stay Very last minute overnight stay. ...</td>\n",
       "      <td>333</td>\n",
       "      <td>4.2</td>\n",
       "    </tr>\n",
       "    <tr>\n",
       "      <th>4</th>\n",
       "      <td>5</td>\n",
       "      <td>Fantastic Hotel!! I stayed at this hotel for t...</td>\n",
       "      <td>589</td>\n",
       "      <td>1.7</td>\n",
       "    </tr>\n",
       "  </tbody>\n",
       "</table>\n",
       "</div>"
      ],
      "text/plain": [
       "   Review Rating                                  Translated Review  \\\n",
       "0              4  Wonderful stay Found the hotel via Tripadvisor...   \n",
       "1              5  Business Dinner!! Recently attended the Passen...   \n",
       "2              5  Very nice boutique hotel. Recommended although...   \n",
       "3              5  Amazing stay Very last minute overnight stay. ...   \n",
       "4              5  Fantastic Hotel!! I stayed at this hotel for t...   \n",
       "\n",
       "   review_len  punct%  \n",
       "0         563     2.3  \n",
       "1         285     2.1  \n",
       "2         295     3.4  \n",
       "3         333     4.2  \n",
       "4         589     1.7  "
      ]
     },
     "execution_count": 6,
     "metadata": {},
     "output_type": "execute_result"
    }
   ],
   "source": [
    "df['punct%'] = df['Translated Review'].apply(compute_punct_percent)\n",
    "df.head()"
   ]
  },
  {
   "cell_type": "code",
   "execution_count": 15,
   "metadata": {},
   "outputs": [
    {
     "data": {
      "image/png": "[encoded data removed]",
      "text/plain": [
       "<Figure size 432x288 with 1 Axes>"
      ]
     },
     "metadata": {
      "needs_background": "light"
     },
     "output_type": "display_data"
    }
   ],
   "source": [
    "bins = np.linspace(0, 500, 40)\n",
    "plt.hist(df[df['label']=='pos']['review_len'],\n",
    "            bins=bins,\n",
    "            alpha=0.5,\n",
    "            density=True,\n",
    "            label='positive'\n",
    "            )\n",
    "\n",
    "plt.hist(df[df['label']=='neg']['review_len'],\n",
    "            bins=bins,\n",
    "            alpha=0.5,\n",
    "            density=True,\n",
    "            label='negative')\n",
    "\n",
    "plt.hist(df[df['label']=='neu']['review_len'],\n",
    "            bins=bins,\n",
    "            alpha=0.5,\n",
    "            density=True,\n",
    "            label='neutral')\n",
    "\n",
    "plt.legend(loc='upper right')\n",
    "plt.show()\n",
    "\n",
    "\n",
    "# Hypothesis1: The sentiment of the reviews differs with review text length.\n",
    "# Looking at the below histogram, the Hypothesis1 is does not seems to be  true \n",
    "# for the dataset."
   ]
  },
  {
   "cell_type": "code",
   "execution_count": null,
   "metadata": {},
   "outputs": [],
   "source": []
  },
  {
   "cell_type": "code",
   "execution_count": 18,
   "metadata": {},
   "outputs": [
    {
     "data": {
      "image/png": "[encoded data removed]",
      "text/plain": [
       "<Figure size 432x288 with 1 Axes>"
      ]
     },
     "metadata": {
      "needs_background": "light"
     },
     "output_type": "display_data"
    }
   ],
   "source": [
    "bins = np.linspace(0, 50, 40)\n",
    "\n",
    "plt.hist(df[df['label']=='pos']['punct%'],\n",
    "            bins=bins,\n",
    "            alpha=0.5,\n",
    "            density=True,\n",
    "            label='positive'\n",
    "            )\n",
    "\n",
    "plt.hist(df[df['label']=='neg']['punct%'],\n",
    "            bins=bins,\n",
    "            alpha=0.5,\n",
    "            density=True,\n",
    "            label='negative')\n",
    "\n",
    "plt.hist(df[df['label']=='neu']['punct%'],\n",
    "            bins=bins,\n",
    "            alpha=0.5,\n",
    "            density=True,\n",
    "            label='neutral')\n",
    "\n",
    "plt.legend(loc='upper right')\n",
    "plt.show()\n",
    "\n",
    "# Hypothesis2: The sentiment of the reviews differs with the % of punctuations.\n",
    "# Looking at the below histogram, the Hypothesis2 is does not seems to be true \n",
    "# for the dataset."
   ]
  },
  {
   "cell_type": "code",
   "execution_count": null,
   "metadata": {},
   "outputs": [],
   "source": []
  }
 ],
 "metadata": {
  "kernelspec": {
   "display_name": "Python 3.8.3 ('base')",
   "language": "python",
   "name": "python3"
  },
  "language_info": {
   "codemirror_mode": {
    "name": "ipython",
    "version": 3
   },
   "file_extension": ".py",
   "mimetype": "text/x-python",
   "name": "python",
   "nbconvert_exporter": "python",
   "pygments_lexer": "ipython3",
   "version": "3.8.3"
  },
  "orig_nbformat": 4,
  "vscode": {
   "interpreter": {
    "hash": "a71a9e4fb054fff428071484f7faa898cb9ecb31a518fe88e3463da9af879578"
   }
  }
 },
 "nbformat": 4,
 "nbformat_minor": 2
}
