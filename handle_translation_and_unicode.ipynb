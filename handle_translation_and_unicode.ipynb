{
  "cells": [
    {
      "cell_type": "code",
      "execution_count": 2,
      "metadata": {
        "id": "8wCTC0qkpGgE"
      },
      "outputs": [],
      "source": [
        "import pandas as pd\n",
        "import numpy as np\n",
        "import re\n",
        "from helpers import unicode_to_str, translate_to_eng"
      ]
    },
    {
      "cell_type": "code",
      "execution_count": 4,
      "metadata": {
        "colab": {
          "base_uri": "https://localhost:8080/",
          "height": 354
        },
        "id": "MXwfYHdxpUOu",
        "outputId": "e84d6060-b44c-40cc-e2c7-bcd870373cc6"
      },
      "outputs": [
        {
          "data": {
            "text/html": [
              "<div>\n",
              "<style scoped>\n",
              "    .dataframe tbody tr th:only-of-type {\n",
              "        vertical-align: middle;\n",
              "    }\n",
              "\n",
              "    .dataframe tbody tr th {\n",
              "        vertical-align: top;\n",
              "    }\n",
              "\n",
              "    .dataframe thead th {\n",
              "        text-align: right;\n",
              "    }\n",
              "</style>\n",
              "<table border=\"1\" class=\"dataframe\">\n",
              "  <thead>\n",
              "    <tr style=\"text-align: right;\">\n",
              "      <th></th>\n",
              "      <th>Property Name</th>\n",
              "      <th>Review Rating</th>\n",
              "      <th>Review Title</th>\n",
              "      <th>Review Text</th>\n",
              "      <th>Location Of The Reviewer</th>\n",
              "      <th>Date Of Review</th>\n",
              "      <th>Complete Review</th>\n",
              "    </tr>\n",
              "  </thead>\n",
              "  <tbody>\n",
              "    <tr>\n",
              "      <th>0</th>\n",
              "      <td>Ridgemount Hotel</td>\n",
              "      <td>4</td>\n",
              "      <td>Wonderful stay</td>\n",
              "      <td>Found the hotel via Tripadvisor and it definit...</td>\n",
              "      <td>Aarhus, Denmark</td>\n",
              "      <td>3/10/2013</td>\n",
              "      <td>Wonderful stay Found the hotel via Tripadvisor...</td>\n",
              "    </tr>\n",
              "    <tr>\n",
              "      <th>1</th>\n",
              "      <td>The Dorchester</td>\n",
              "      <td>5</td>\n",
              "      <td>Business Dinner!!</td>\n",
              "      <td>Recently attended the Passenger Shipping Assoc...</td>\n",
              "      <td>Morecambe</td>\n",
              "      <td>12/31/2012</td>\n",
              "      <td>Business Dinner!! Recently attended the Passen...</td>\n",
              "    </tr>\n",
              "    <tr>\n",
              "      <th>2</th>\n",
              "      <td>Marble Arch Hotel</td>\n",
              "      <td>5</td>\n",
              "      <td>Très beau boutique hôtel. Recommandé bien que ...</td>\n",
              "      <td>Nous avons beaucoup aimé ce boutique hôtel, bi...</td>\n",
              "      <td>Paris</td>\n",
              "      <td>1/4/2014</td>\n",
              "      <td>Très beau boutique hôtel. Recommandé bien que ...</td>\n",
              "    </tr>\n",
              "    <tr>\n",
              "      <th>3</th>\n",
              "      <td>Mandarin Oriental Hyde Park, London</td>\n",
              "      <td>5</td>\n",
              "      <td>Amazing stay</td>\n",
              "      <td>Very last minute overnight stay. Booked a suit...</td>\n",
              "      <td>UK</td>\n",
              "      <td>11/29/2016</td>\n",
              "      <td>Amazing stay Very last minute overnight stay. ...</td>\n",
              "    </tr>\n",
              "    <tr>\n",
              "      <th>4</th>\n",
              "      <td>Apex London Wall Hotel</td>\n",
              "      <td>5</td>\n",
              "      <td>Fantastic Hotel!!</td>\n",
              "      <td>I stayed at this hotel for three nights and th...</td>\n",
              "      <td>County Limerick, Ireland</td>\n",
              "      <td>12/13/2016</td>\n",
              "      <td>Fantastic Hotel!! I stayed at this hotel for t...</td>\n",
              "    </tr>\n",
              "  </tbody>\n",
              "</table>\n",
              "</div>"
            ],
            "text/plain": [
              "                         Property Name  Review Rating  \\\n",
              "0                     Ridgemount Hotel              4   \n",
              "1                       The Dorchester              5   \n",
              "2                    Marble Arch Hotel              5   \n",
              "3  Mandarin Oriental Hyde Park, London              5   \n",
              "4               Apex London Wall Hotel              5   \n",
              "\n",
              "                                        Review Title  \\\n",
              "0                                     Wonderful stay   \n",
              "1                                  Business Dinner!!   \n",
              "2  Très beau boutique hôtel. Recommandé bien que ...   \n",
              "3                                       Amazing stay   \n",
              "4                                  Fantastic Hotel!!   \n",
              "\n",
              "                                         Review Text  \\\n",
              "0  Found the hotel via Tripadvisor and it definit...   \n",
              "1  Recently attended the Passenger Shipping Assoc...   \n",
              "2  Nous avons beaucoup aimé ce boutique hôtel, bi...   \n",
              "3  Very last minute overnight stay. Booked a suit...   \n",
              "4  I stayed at this hotel for three nights and th...   \n",
              "\n",
              "   Location Of The Reviewer Date Of Review  \\\n",
              "0           Aarhus, Denmark      3/10/2013   \n",
              "1                 Morecambe     12/31/2012   \n",
              "2                     Paris       1/4/2014   \n",
              "3                        UK     11/29/2016   \n",
              "4  County Limerick, Ireland     12/13/2016   \n",
              "\n",
              "                                     Complete Review  \n",
              "0  Wonderful stay Found the hotel via Tripadvisor...  \n",
              "1  Business Dinner!! Recently attended the Passen...  \n",
              "2  Très beau boutique hôtel. Recommandé bien que ...  \n",
              "3  Amazing stay Very last minute overnight stay. ...  \n",
              "4  Fantastic Hotel!! I stayed at this hotel for t...  "
            ]
          },
          "execution_count": 4,
          "metadata": {},
          "output_type": "execute_result"
        }
      ],
      "source": [
        "df = pd.read_csv(\"London_hotel_reviews - London_hotel_reviews.csv\")\n",
        "df['Complete Review'] = df['Review Title'] + \" \" + df['Review Text']\n",
        "df.head()"
      ]
    },
    {
      "cell_type": "code",
      "execution_count": 5,
      "metadata": {
        "id": "yehRJCzAnNw2"
      },
      "outputs": [],
      "source": [
        "df['Complete Review'] = df['Complete Review'].apply(unicode_to_str)"
      ]
    },
    {
      "cell_type": "code",
      "execution_count": 6,
      "metadata": {
        "id": "pQf1FRXcoYUS"
      },
      "outputs": [],
      "source": [
        "df['Translated Review'] = df['Complete Review'].apply(translate_to_eng)"
      ]
    },
    {
      "cell_type": "code",
      "execution_count": 7,
      "metadata": {
        "colab": {
          "base_uri": "https://localhost:8080/",
          "height": 206
        },
        "id": "epLvDkDZsliQ",
        "outputId": "c8239065-70b2-40bb-9a14-4347c0091226"
      },
      "outputs": [
        {
          "data": {
            "text/html": [
              "<div>\n",
              "<style scoped>\n",
              "    .dataframe tbody tr th:only-of-type {\n",
              "        vertical-align: middle;\n",
              "    }\n",
              "\n",
              "    .dataframe tbody tr th {\n",
              "        vertical-align: top;\n",
              "    }\n",
              "\n",
              "    .dataframe thead th {\n",
              "        text-align: right;\n",
              "    }\n",
              "</style>\n",
              "<table border=\"1\" class=\"dataframe\">\n",
              "  <thead>\n",
              "    <tr style=\"text-align: right;\">\n",
              "      <th></th>\n",
              "      <th>Complete Review</th>\n",
              "      <th>Translated Review</th>\n",
              "    </tr>\n",
              "  </thead>\n",
              "  <tbody>\n",
              "    <tr>\n",
              "      <th>0</th>\n",
              "      <td>Wonderful stay Found the hotel via Tripadvisor...</td>\n",
              "      <td>Wonderful stay Found the hotel via Tripadvisor...</td>\n",
              "    </tr>\n",
              "    <tr>\n",
              "      <th>1</th>\n",
              "      <td>Business Dinner!! Recently attended the Passen...</td>\n",
              "      <td>Business Dinner!! Recently attended the Passen...</td>\n",
              "    </tr>\n",
              "    <tr>\n",
              "      <th>2</th>\n",
              "      <td>Très beau boutique hôtel. Recommandé bien que ...</td>\n",
              "      <td>Very nice boutique hotel. Recommended although...</td>\n",
              "    </tr>\n",
              "    <tr>\n",
              "      <th>3</th>\n",
              "      <td>Amazing stay Very last minute overnight stay. ...</td>\n",
              "      <td>Amazing stay Very last minute overnight stay. ...</td>\n",
              "    </tr>\n",
              "    <tr>\n",
              "      <th>4</th>\n",
              "      <td>Fantastic Hotel!! I stayed at this hotel for t...</td>\n",
              "      <td>Fantastic Hotel!! I stayed at this hotel for t...</td>\n",
              "    </tr>\n",
              "  </tbody>\n",
              "</table>\n",
              "</div>"
            ],
            "text/plain": [
              "                                     Complete Review  \\\n",
              "0  Wonderful stay Found the hotel via Tripadvisor...   \n",
              "1  Business Dinner!! Recently attended the Passen...   \n",
              "2  Très beau boutique hôtel. Recommandé bien que ...   \n",
              "3  Amazing stay Very last minute overnight stay. ...   \n",
              "4  Fantastic Hotel!! I stayed at this hotel for t...   \n",
              "\n",
              "                                   Translated Review  \n",
              "0  Wonderful stay Found the hotel via Tripadvisor...  \n",
              "1  Business Dinner!! Recently attended the Passen...  \n",
              "2  Very nice boutique hotel. Recommended although...  \n",
              "3  Amazing stay Very last minute overnight stay. ...  \n",
              "4  Fantastic Hotel!! I stayed at this hotel for t...  "
            ]
          },
          "execution_count": 7,
          "metadata": {},
          "output_type": "execute_result"
        }
      ],
      "source": [
        "df[['Complete Review', 'Translated Review']].head()"
      ]
    },
    {
      "cell_type": "code",
      "execution_count": 8,
      "metadata": {
        "id": "hN24Hb0Tissu"
      },
      "outputs": [],
      "source": [
        "new_df = df[['Review Rating','Translated Review']]"
      ]
    },
    {
      "cell_type": "code",
      "execution_count": 9,
      "metadata": {
        "colab": {
          "base_uri": "https://localhost:8080/",
          "height": 206
        },
        "id": "SQiaXGuZkPK0",
        "outputId": "23f4d53c-fa0c-4d19-ec69-70e41826c87a"
      },
      "outputs": [
        {
          "data": {
            "text/html": [
              "<div>\n",
              "<style scoped>\n",
              "    .dataframe tbody tr th:only-of-type {\n",
              "        vertical-align: middle;\n",
              "    }\n",
              "\n",
              "    .dataframe tbody tr th {\n",
              "        vertical-align: top;\n",
              "    }\n",
              "\n",
              "    .dataframe thead th {\n",
              "        text-align: right;\n",
              "    }\n",
              "</style>\n",
              "<table border=\"1\" class=\"dataframe\">\n",
              "  <thead>\n",
              "    <tr style=\"text-align: right;\">\n",
              "      <th></th>\n",
              "      <th>Review Rating</th>\n",
              "      <th>Translated Review</th>\n",
              "    </tr>\n",
              "  </thead>\n",
              "  <tbody>\n",
              "    <tr>\n",
              "      <th>0</th>\n",
              "      <td>4</td>\n",
              "      <td>Wonderful stay Found the hotel via Tripadvisor...</td>\n",
              "    </tr>\n",
              "    <tr>\n",
              "      <th>1</th>\n",
              "      <td>5</td>\n",
              "      <td>Business Dinner!! Recently attended the Passen...</td>\n",
              "    </tr>\n",
              "    <tr>\n",
              "      <th>2</th>\n",
              "      <td>5</td>\n",
              "      <td>Very nice boutique hotel. Recommended although...</td>\n",
              "    </tr>\n",
              "    <tr>\n",
              "      <th>3</th>\n",
              "      <td>5</td>\n",
              "      <td>Amazing stay Very last minute overnight stay. ...</td>\n",
              "    </tr>\n",
              "    <tr>\n",
              "      <th>4</th>\n",
              "      <td>5</td>\n",
              "      <td>Fantastic Hotel!! I stayed at this hotel for t...</td>\n",
              "    </tr>\n",
              "  </tbody>\n",
              "</table>\n",
              "</div>"
            ],
            "text/plain": [
              "   Review Rating                                  Translated Review\n",
              "0              4  Wonderful stay Found the hotel via Tripadvisor...\n",
              "1              5  Business Dinner!! Recently attended the Passen...\n",
              "2              5  Very nice boutique hotel. Recommended although...\n",
              "3              5  Amazing stay Very last minute overnight stay. ...\n",
              "4              5  Fantastic Hotel!! I stayed at this hotel for t..."
            ]
          },
          "execution_count": 9,
          "metadata": {},
          "output_type": "execute_result"
        }
      ],
      "source": [
        "new_df.head()"
      ]
    },
    {
      "cell_type": "code",
      "execution_count": 34,
      "metadata": {
        "id": "5kGi5boOkRKW"
      },
      "outputs": [],
      "source": [
        "new_df.to_csv(\"Translated_London_Hotel_review_Dataset.csv\", index=False)"
      ]
    }
  ],
  "metadata": {
    "colab": {
      "name": "handle_translation_and_unicode.ipynb",
      "provenance": []
    },
    "kernelspec": {
      "display_name": "Python 3.8.3 ('base')",
      "language": "python",
      "name": "python3"
    },
    "language_info": {
      "codemirror_mode": {
        "name": "ipython",
        "version": 3
      },
      "file_extension": ".py",
      "mimetype": "text/x-python",
      "name": "python",
      "nbconvert_exporter": "python",
      "pygments_lexer": "ipython3",
      "version": "3.8.3"
    },
    "vscode": {
      "interpreter": {
        "hash": "a71a9e4fb054fff428071484f7faa898cb9ecb31a518fe88e3463da9af879578"
      }
    }
  },
  "nbformat": 4,
  "nbformat_minor": 0
}
