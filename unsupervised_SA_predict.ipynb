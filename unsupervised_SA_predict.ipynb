{
  "cells": [
    {
      "cell_type": "code",
      "execution_count": 18,
      "metadata": {
        "colab": {
          "base_uri": "https://localhost:8080/"
        },
        "id": "yZZLnd0B1T-R",
        "outputId": "e368b01b-85c6-4ad5-928e-5b25957d13fe"
      },
      "outputs": [
        {
          "name": "stderr",
          "output_type": "stream",
          "text": [
            "[nltk_data] Downloading package vader_lexicon to\n",
            "[nltk_data]     C:\\Users\\lenovo\\AppData\\Roaming\\nltk_data...\n",
            "[nltk_data]   Package vader_lexicon is already up-to-date!\n"
          ]
        }
      ],
      "source": [
        "import pandas as pd\n",
        "import numpy as np\n",
        "import re\n",
        "import nltk\n",
        "nltk.download('vader_lexicon')\n",
        "from textblob import TextBlob\n",
        "from sklearn.metrics import accuracy_score\n",
        "from nltk.sentiment.vader import SentimentIntensityAnalyzer\n",
        "import torch\n",
        "from transformers import AutoTokenizer, AutoModelForSequenceClassification\n",
        "from helpers import label_reviews, remove_non_alpha\n",
        "\n"
      ]
    },
    {
      "cell_type": "code",
      "execution_count": 5,
      "metadata": {
        "colab": {
          "base_uri": "https://localhost:8080/"
        },
        "id": "i7mZyOMqGvrc",
        "outputId": "efe1ff86-0404-4e8f-fc44-d5ee406800e7"
      },
      "outputs": [
        {
          "name": "stdout",
          "output_type": "stream",
          "text": [
            "Index(['Review Rating', 'Translated Review'], dtype='object')\n"
          ]
        }
      ],
      "source": [
        "df = pd.read_csv(\"Translated_London_Hotel_review_Dataset.csv\")\n",
        "print(df.columns)"
      ]
    },
    {
      "cell_type": "code",
      "execution_count": 6,
      "metadata": {
        "colab": {
          "base_uri": "https://localhost:8080/",
          "height": 206
        },
        "id": "hYI2Bzae1T-g",
        "outputId": "b9c4eced-96f2-4ef7-e8ff-a2eeb6e3f9d5"
      },
      "outputs": [
        {
          "data": {
            "text/html": [
              "<div>\n",
              "<style scoped>\n",
              "    .dataframe tbody tr th:only-of-type {\n",
              "        vertical-align: middle;\n",
              "    }\n",
              "\n",
              "    .dataframe tbody tr th {\n",
              "        vertical-align: top;\n",
              "    }\n",
              "\n",
              "    .dataframe thead th {\n",
              "        text-align: right;\n",
              "    }\n",
              "</style>\n",
              "<table border=\"1\" class=\"dataframe\">\n",
              "  <thead>\n",
              "    <tr style=\"text-align: right;\">\n",
              "      <th></th>\n",
              "      <th>Review Rating</th>\n",
              "      <th>Translated Review</th>\n",
              "    </tr>\n",
              "  </thead>\n",
              "  <tbody>\n",
              "    <tr>\n",
              "      <th>0</th>\n",
              "      <td>4</td>\n",
              "      <td>Wonderful stay Found the hotel via Tripadvisor...</td>\n",
              "    </tr>\n",
              "    <tr>\n",
              "      <th>1</th>\n",
              "      <td>5</td>\n",
              "      <td>Business Dinner!! Recently attended the Passen...</td>\n",
              "    </tr>\n",
              "    <tr>\n",
              "      <th>2</th>\n",
              "      <td>5</td>\n",
              "      <td>Very nice boutique hotel. Recommended although...</td>\n",
              "    </tr>\n",
              "    <tr>\n",
              "      <th>3</th>\n",
              "      <td>5</td>\n",
              "      <td>Amazing stay Very last minute overnight stay. ...</td>\n",
              "    </tr>\n",
              "    <tr>\n",
              "      <th>4</th>\n",
              "      <td>5</td>\n",
              "      <td>Fantastic Hotel!! I stayed at this hotel for t...</td>\n",
              "    </tr>\n",
              "  </tbody>\n",
              "</table>\n",
              "</div>"
            ],
            "text/plain": [
              "   Review Rating                                  Translated Review\n",
              "0              4  Wonderful stay Found the hotel via Tripadvisor...\n",
              "1              5  Business Dinner!! Recently attended the Passen...\n",
              "2              5  Very nice boutique hotel. Recommended although...\n",
              "3              5  Amazing stay Very last minute overnight stay. ...\n",
              "4              5  Fantastic Hotel!! I stayed at this hotel for t..."
            ]
          },
          "execution_count": 6,
          "metadata": {},
          "output_type": "execute_result"
        }
      ],
      "source": [
        "df.head()"
      ]
    },
    {
      "cell_type": "code",
      "execution_count": 7,
      "metadata": {
        "id": "LhtTgdxLHJvC"
      },
      "outputs": [],
      "source": [
        "df['Translated Review'] = df['Translated Review'].apply(remove_non_alpha)"
      ]
    },
    {
      "cell_type": "code",
      "execution_count": 8,
      "metadata": {
        "id": "hkCw9hx9i70f"
      },
      "outputs": [],
      "source": [
        "# Set empty cells to Nan, so that we can drop.\n",
        "df['Translated Review'].replace('', np.nan, inplace=True)"
      ]
    },
    {
      "cell_type": "code",
      "execution_count": 9,
      "metadata": {
        "colab": {
          "base_uri": "https://localhost:8080/"
        },
        "id": "VZco6c5DIILr",
        "outputId": "a684b141-4153-47d5-e081-9570a797b3c3"
      },
      "outputs": [
        {
          "name": "stdout",
          "output_type": "stream",
          "text": [
            "Review Rating         0\n",
            "Translated Review    12\n",
            "dtype: int64\n"
          ]
        }
      ],
      "source": [
        "print(f'{df.isna().sum()}')"
      ]
    },
    {
      "cell_type": "code",
      "execution_count": 10,
      "metadata": {
        "id": "jJXolieRjUKT"
      },
      "outputs": [],
      "source": [
        "df = df.dropna()"
      ]
    },
    {
      "cell_type": "code",
      "execution_count": 11,
      "metadata": {
        "colab": {
          "base_uri": "https://localhost:8080/"
        },
        "id": "WoFu5q79kb4k",
        "outputId": "8862e92a-79f9-4740-bba0-b853f883afb4"
      },
      "outputs": [
        {
          "name": "stdout",
          "output_type": "stream",
          "text": [
            "Review Rating        0\n",
            "Translated Review    0\n",
            "dtype: int64\n"
          ]
        }
      ],
      "source": [
        "print(f'{df.isna().sum()}')"
      ]
    },
    {
      "cell_type": "code",
      "execution_count": 12,
      "metadata": {
        "id": "_CrD9h2n7kaX"
      },
      "outputs": [],
      "source": [
        "df['label'] = df['Review Rating'].apply(label_reviews)"
      ]
    },
    {
      "cell_type": "code",
      "execution_count": 13,
      "metadata": {
        "colab": {
          "base_uri": "https://localhost:8080/",
          "height": 206
        },
        "id": "tmiiuWWiXRRU",
        "outputId": "64540ce3-8944-4ebd-de12-169d2585a222"
      },
      "outputs": [
        {
          "data": {
            "text/html": [
              "<div>\n",
              "<style scoped>\n",
              "    .dataframe tbody tr th:only-of-type {\n",
              "        vertical-align: middle;\n",
              "    }\n",
              "\n",
              "    .dataframe tbody tr th {\n",
              "        vertical-align: top;\n",
              "    }\n",
              "\n",
              "    .dataframe thead th {\n",
              "        text-align: right;\n",
              "    }\n",
              "</style>\n",
              "<table border=\"1\" class=\"dataframe\">\n",
              "  <thead>\n",
              "    <tr style=\"text-align: right;\">\n",
              "      <th></th>\n",
              "      <th>Review Rating</th>\n",
              "      <th>Translated Review</th>\n",
              "      <th>label</th>\n",
              "    </tr>\n",
              "  </thead>\n",
              "  <tbody>\n",
              "    <tr>\n",
              "      <th>0</th>\n",
              "      <td>4</td>\n",
              "      <td>Wonderful stay Found the hotel via Tripadvisor...</td>\n",
              "      <td>pos</td>\n",
              "    </tr>\n",
              "    <tr>\n",
              "      <th>1</th>\n",
              "      <td>5</td>\n",
              "      <td>Business Dinner   Recently attended the Passen...</td>\n",
              "      <td>pos</td>\n",
              "    </tr>\n",
              "    <tr>\n",
              "      <th>2</th>\n",
              "      <td>5</td>\n",
              "      <td>Very nice boutique hotel  Recommended although...</td>\n",
              "      <td>pos</td>\n",
              "    </tr>\n",
              "    <tr>\n",
              "      <th>3</th>\n",
              "      <td>5</td>\n",
              "      <td>Amazing stay Very last minute overnight stay  ...</td>\n",
              "      <td>pos</td>\n",
              "    </tr>\n",
              "    <tr>\n",
              "      <th>4</th>\n",
              "      <td>5</td>\n",
              "      <td>Fantastic Hotel   I stayed at this hotel for t...</td>\n",
              "      <td>pos</td>\n",
              "    </tr>\n",
              "  </tbody>\n",
              "</table>\n",
              "</div>"
            ],
            "text/plain": [
              "   Review Rating                                  Translated Review label\n",
              "0              4  Wonderful stay Found the hotel via Tripadvisor...   pos\n",
              "1              5  Business Dinner   Recently attended the Passen...   pos\n",
              "2              5  Very nice boutique hotel  Recommended although...   pos\n",
              "3              5  Amazing stay Very last minute overnight stay  ...   pos\n",
              "4              5  Fantastic Hotel   I stayed at this hotel for t...   pos"
            ]
          },
          "execution_count": 13,
          "metadata": {},
          "output_type": "execute_result"
        }
      ],
      "source": [
        "df.head()"
      ]
    },
    {
      "cell_type": "code",
      "execution_count": 19,
      "metadata": {
        "id": "Oyhc3BNvYOxV"
      },
      "outputs": [],
      "source": [
        "def sa_vader(review):\n",
        "\n",
        "  sia = SentimentIntensityAnalyzer()\n",
        "  score = sia.polarity_scores(text=review)['compound']\n",
        "\n",
        "  if score >= 0.05:\n",
        "    return \"pos\"\n",
        "  elif score <= -0.05:\n",
        "    return \"neg\"\n",
        "  else:\n",
        "    return \"neu\""
      ]
    },
    {
      "cell_type": "code",
      "execution_count": 20,
      "metadata": {
        "id": "qmdRz79NXTBa"
      },
      "outputs": [],
      "source": [
        "df['vader_prediction'] = df['Translated Review'].apply(sa_vader)"
      ]
    },
    {
      "cell_type": "code",
      "execution_count": 21,
      "metadata": {
        "id": "jWGPczqQaHyD"
      },
      "outputs": [],
      "source": [
        "def sa_textblob(reviews):\n",
        "  \n",
        "  score = TextBlob(reviews).sentiment.polarity\n",
        "\n",
        "  if score > 0:\n",
        "    return \"pos\"\n",
        "  elif score == 0:\n",
        "    return \"neu\"\n",
        "  else:\n",
        "    return \"neg\"\n"
      ]
    },
    {
      "cell_type": "code",
      "execution_count": 22,
      "metadata": {
        "id": "-_z3NEWqFrRX"
      },
      "outputs": [],
      "source": [
        "df['textblob_prediction'] = df['Translated Review'].apply(sa_textblob)"
      ]
    },
    {
      "cell_type": "code",
      "execution_count": null,
      "metadata": {
        "id": "x0vA_Q8SEebZ"
      },
      "outputs": [],
      "source": [
        "def sa_bert(model, tokenizer, review):\n",
        "\n",
        "  tokens = tokenizer.encode(review, \n",
        "                            padding=True, \n",
        "                            truncation=True,\n",
        "                            max_length=100, \n",
        "                            add_special_tokens = True,\n",
        "                            return_tensors='pt')\n",
        "  \n",
        "  result = model(tokens)\n",
        "  score = int(torch.argmax(result.logits)) + 1\n",
        "\n",
        "  if score <= 2:\n",
        "    return \"neg\"\n",
        "  elif score == 3:\n",
        "    return \"neu\"\n",
        "  else:\n",
        "    return \"pos\""
      ]
    },
    {
      "cell_type": "code",
      "execution_count": null,
      "metadata": {
        "id": "3CvOCdnsFpkc"
      },
      "outputs": [],
      "source": [
        "# NOTE: This might take close to an hour or more\n",
        "# depending on the system capacity.\n",
        "df['Bert_prediction'] = df['Translated Review'].apply(sa_bert)"
      ]
    },
    {
      "cell_type": "code",
      "execution_count": null,
      "metadata": {
        "id": "_s3I2QZHGXc0"
      },
      "outputs": [],
      "source": [
        "df.head()"
      ]
    },
    {
      "cell_type": "code",
      "execution_count": 23,
      "metadata": {
        "id": "PpuPW2ZP6QCU"
      },
      "outputs": [],
      "source": [
        "def check_sentiment(review):\n",
        "\n",
        "  # Extract alphabets from the review.\n",
        "  review = re.sub(\"[^a-zA-Z]\", \" \", review).strip()\n",
        "\n",
        "  if review:\n",
        "    sia = SentimentIntensityAnalyzer()\n",
        "    vader_res = sa_vader(sia, review)\n",
        "\n",
        "    txtblob_res = sa_textblob(review)\n",
        "\n",
        "    tokenizer = AutoTokenizer.from_pretrained('nlptown/bert-base-multilingual-uncased-sentiment')\n",
        "    model = AutoModelForSequenceClassification.from_pretrained('nlptown/bert-base-multilingual-uncased-sentiment')\n",
        "\n",
        "    bert_res = sa_bert(model, tokenizer, review)\n",
        "\n",
        "    result_list = [bert_res, vader_res, txtblob_res]\n",
        "\n",
        "    print(f\"{result_list}\")\n",
        "\n",
        "    # choose the sentiment predicted/voted most.\n",
        "    # NOTE: In case of Tie, the priority is given\n",
        "    # to the Bert model (1st entry in the list).\n",
        "    max_vote = max(result_list, key=result_list.count)\n",
        "\n",
        "    if max_vote == \"pos\":\n",
        "      print('The sentiment of the review is Postive')\n",
        "    elif max_vote == \"neg\":\n",
        "      print(\"The sentiment of the review is Negative\")\n",
        "    else:\n",
        "      print(\"The sentiment of the review is Neutral\")\n",
        "\n",
        "  else:\n",
        "      print(\"Error: The review has NO english alphabets. Please check again\")\n",
        "\n",
        "\n"
      ]
    },
    {
      "cell_type": "code",
      "execution_count": 24,
      "metadata": {
        "id": "2nzJiq3o0GPd"
      },
      "outputs": [],
      "source": [
        "def individual_accuaracy(model_name, sentiment):\n",
        "\n",
        "  return round(len(df[(df[model_name] == sentiment) & (df['label'] == sentiment )]) / len(df[df['label'] == sentiment]) * 100, 2)"
      ]
    },
    {
      "cell_type": "markdown",
      "metadata": {
        "id": "f9GeCQmuEfv2"
      },
      "source": [
        "## VADER EVALUATION\n"
      ]
    },
    {
      "cell_type": "code",
      "execution_count": 300,
      "metadata": {
        "colab": {
          "base_uri": "https://localhost:8080/"
        },
        "id": "k2ha2pVdEfv2",
        "outputId": "da3e296f-d29a-4ef6-8ecc-c232d0e67ef6"
      },
      "outputs": [
        {
          "name": "stdout",
          "output_type": "stream",
          "text": [
            "VADER Model Overall accuracy: 90.46052631578947\n"
          ]
        }
      ],
      "source": [
        "print(f\"VADER Model Overall accuracy: {accuracy_score(df['label'], df['vader_prediction']) * 100}\")"
      ]
    },
    {
      "cell_type": "code",
      "execution_count": 301,
      "metadata": {
        "colab": {
          "base_uri": "https://localhost:8080/"
        },
        "id": "uR2tHVcZEfv2",
        "outputId": "d7e08043-3d02-4a53-8786-2bdf17e183f9"
      },
      "outputs": [
        {
          "name": "stdout",
          "output_type": "stream",
          "text": [
            "VADER accuracy on neutral sentiments: 1.2\n"
          ]
        }
      ],
      "source": [
        "print(f'VADER accuracy on neutral sentiments: {individual_accuaracy(\"vader_prediction\", \"neu\")}')"
      ]
    },
    {
      "cell_type": "code",
      "execution_count": 302,
      "metadata": {
        "colab": {
          "base_uri": "https://localhost:8080/"
        },
        "id": "wiIKnywkEfv5",
        "outputId": "b1675880-73ca-427a-ee09-573857e06dfe"
      },
      "outputs": [
        {
          "name": "stdout",
          "output_type": "stream",
          "text": [
            "VADER accuracy on positive sentiments: 99.25\n"
          ]
        }
      ],
      "source": [
        "print(f'VADER accuracy on positive sentiments: {individual_accuaracy(\"vader_prediction\", \"pos\")}')"
      ]
    },
    {
      "cell_type": "code",
      "execution_count": 303,
      "metadata": {
        "colab": {
          "base_uri": "https://localhost:8080/"
        },
        "id": "46Uqvvc6Efv5",
        "outputId": "63e95080-adb9-4a74-dea4-6ae5b2248825"
      },
      "outputs": [
        {
          "name": "stdout",
          "output_type": "stream",
          "text": [
            "VADER accuracy on Negative sentiments: 48.66\n"
          ]
        }
      ],
      "source": [
        "print(f'VADER accuracy on Negative sentiments: {individual_accuaracy(\"vader_prediction\", \"neg\")}')"
      ]
    },
    {
      "cell_type": "markdown",
      "metadata": {
        "id": "qtgba1PwDDls"
      },
      "source": [
        "## TEXTBLOB EVALUATION\n"
      ]
    },
    {
      "cell_type": "code",
      "execution_count": 295,
      "metadata": {
        "colab": {
          "base_uri": "https://localhost:8080/"
        },
        "id": "8d5jL18eDDlt",
        "outputId": "ef564866-cac1-4032-d88e-c1a7645e8474"
      },
      "outputs": [
        {
          "name": "stdout",
          "output_type": "stream",
          "text": [
            "TEXTBLOB Model Overall accuracy: 90.47783933518005\n"
          ]
        }
      ],
      "source": [
        "print(f\"TEXTBLOB Model Overall accuracy: {accuracy_score(df['label'], df['textblob_prediction']) * 100}\")"
      ]
    },
    {
      "cell_type": "code",
      "execution_count": 296,
      "metadata": {
        "colab": {
          "base_uri": "https://localhost:8080/"
        },
        "id": "MjJjy7AnDDlt",
        "outputId": "d2132270-e734-43f0-db5b-c661df3fb644"
      },
      "outputs": [
        {
          "name": "stdout",
          "output_type": "stream",
          "text": [
            "TEXTBLOB accuracy on neutral sentiments: 0.13\n"
          ]
        }
      ],
      "source": [
        "print(f'TEXTBLOB accuracy on neutral sentiments: {individual_accuaracy(\"textblob_prediction\", \"neu\")}')"
      ]
    },
    {
      "cell_type": "code",
      "execution_count": 297,
      "metadata": {
        "colab": {
          "base_uri": "https://localhost:8080/"
        },
        "id": "IjGVQJXbDDlu",
        "outputId": "ce5857c6-d8e2-42a5-8d8b-beae04d7f282"
      },
      "outputs": [
        {
          "name": "stdout",
          "output_type": "stream",
          "text": [
            "TEXTBLOB accuracy on positive sentiments: 99.57\n"
          ]
        }
      ],
      "source": [
        "print(f'TEXTBLOB accuracy on positive sentiments: {individual_accuaracy(\"textblob_prediction\", \"pos\")}')"
      ]
    },
    {
      "cell_type": "code",
      "execution_count": 298,
      "metadata": {
        "colab": {
          "base_uri": "https://localhost:8080/"
        },
        "id": "SPHWGFsyDDlu",
        "outputId": "83f3c9fc-ba99-4592-e7b9-cf62434c8a22"
      },
      "outputs": [
        {
          "name": "stdout",
          "output_type": "stream",
          "text": [
            "TEXTBLOB accuracy on Negative sentiments: 44.54\n"
          ]
        }
      ],
      "source": [
        "print(f'TEXTBLOB accuracy on Negative sentiments: {individual_accuaracy(\"textblob_prediction\", \"neg\")}')"
      ]
    },
    {
      "cell_type": "markdown",
      "metadata": {
        "id": "pq1WXprDBS5d"
      },
      "source": [
        "## BERT EVALUATION"
      ]
    },
    {
      "cell_type": "code",
      "execution_count": 305,
      "metadata": {
        "colab": {
          "base_uri": "https://localhost:8080/"
        },
        "id": "JmzNVrEvKra5",
        "outputId": "22b8453a-df28-4972-c2f0-4d5a5bdec505"
      },
      "outputs": [
        {
          "name": "stdout",
          "output_type": "stream",
          "text": [
            "BERT Model Overall accuracy: 90.83275623268699\n"
          ]
        }
      ],
      "source": [
        "print(f\"BERT Model Overall accuracy: {accuracy_score(df['label'], df['Bert_prediction']) * 100}\")"
      ]
    },
    {
      "cell_type": "code",
      "execution_count": 284,
      "metadata": {
        "colab": {
          "base_uri": "https://localhost:8080/"
        },
        "id": "jl3isxbv1wKm",
        "outputId": "6e6aaf4a-7146-4968-adb2-7f3c44e98214"
      },
      "outputs": [
        {
          "name": "stdout",
          "output_type": "stream",
          "text": [
            "Bert accuracy on neutral sentiments: 39.76\n"
          ]
        }
      ],
      "source": [
        "print(f'Bert accuracy on neutral sentiments: {individual_accuaracy(\"Bert_prediction\", \"neu\")}')"
      ]
    },
    {
      "cell_type": "code",
      "execution_count": 285,
      "metadata": {
        "colab": {
          "base_uri": "https://localhost:8080/"
        },
        "id": "IakgL6Ki1_-1",
        "outputId": "652089e2-a297-4cad-c133-bc477894769a"
      },
      "outputs": [
        {
          "name": "stdout",
          "output_type": "stream",
          "text": [
            "Bert accuracy on positive sentiments: 94.96\n"
          ]
        }
      ],
      "source": [
        "print(f'Bert accuracy on positive sentiments: {individual_accuaracy(\"Bert_prediction\", \"pos\")}')"
      ]
    },
    {
      "cell_type": "code",
      "execution_count": 287,
      "metadata": {
        "colab": {
          "base_uri": "https://localhost:8080/"
        },
        "id": "zPOHf0RZ2MDl",
        "outputId": "d54adb10-5401-44f5-913f-239fa08b8770"
      },
      "outputs": [
        {
          "name": "stdout",
          "output_type": "stream",
          "text": [
            "Bert accuracy on Negative sentiments: 83.36\n"
          ]
        }
      ],
      "source": [
        "print(f'Bert accuracy on Negative sentiments: {individual_accuaracy(\"Bert_prediction\", \"neg\")}')"
      ]
    }
  ],
  "metadata": {
    "colab": {
      "collapsed_sections": [],
      "name": "sentiment_anaysis.ipynb",
      "provenance": []
    },
    "kernelspec": {
      "display_name": "Python 3.10.5 64-bit (windows store)",
      "language": "python",
      "name": "python3"
    },
    "language_info": {
      "codemirror_mode": {
        "name": "ipython",
        "version": 3
      },
      "file_extension": ".py",
      "mimetype": "text/x-python",
      "name": "python",
      "nbconvert_exporter": "python",
      "pygments_lexer": "ipython3",
      "version": "3.10.5"
    },
    "orig_nbformat": 4,
    "vscode": {
      "interpreter": {
        "hash": "5c41cc7a6bf458ae2af5583a7906ef5f402c759b4882f3cbfc8ede19b81b2d2f"
      }
    }
  },
  "nbformat": 4,
  "nbformat_minor": 0
}
